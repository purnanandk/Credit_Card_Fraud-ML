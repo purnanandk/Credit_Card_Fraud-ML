{
 "cells": [
  {
   "cell_type": "markdown",
   "id": "1e039979",
   "metadata": {},
   "source": [
    "## CREDIT CARD FRAUD Detection  \n",
    "  \n",
    "Importing Libraries"
   ]
  },
  {
   "cell_type": "code",
   "execution_count": 1,
   "id": "2f491b2d",
   "metadata": {},
   "outputs": [],
   "source": [
    "import pandas as pd\n",
    "import numpy as np\n",
    "\n",
    "import warnings\n",
    "warnings.filterwarnings('ignore')"
   ]
  },
  {
   "cell_type": "markdown",
   "id": "3a454722",
   "metadata": {},
   "source": [
    "Loadig dataset : "
   ]
  },
  {
   "cell_type": "code",
   "execution_count": 2,
   "id": "f53d71ee",
   "metadata": {},
   "outputs": [],
   "source": [
    "cc_data = pd.read_csv(r\"C:\\Users\\randa\\Purnanand\\Projects\\Credit Card Fraud\\creditcard.csv\")"
   ]
  },
  {
   "cell_type": "code",
   "execution_count": 3,
   "id": "f4e9ab2e",
   "metadata": {},
   "outputs": [
    {
     "data": {
      "text/html": [
       "<div>\n",
       "<style scoped>\n",
       "    .dataframe tbody tr th:only-of-type {\n",
       "        vertical-align: middle;\n",
       "    }\n",
       "\n",
       "    .dataframe tbody tr th {\n",
       "        vertical-align: top;\n",
       "    }\n",
       "\n",
       "    .dataframe thead th {\n",
       "        text-align: right;\n",
       "    }\n",
       "</style>\n",
       "<table border=\"1\" class=\"dataframe\">\n",
       "  <thead>\n",
       "    <tr style=\"text-align: right;\">\n",
       "      <th></th>\n",
       "      <th>Time</th>\n",
       "      <th>V1</th>\n",
       "      <th>V2</th>\n",
       "      <th>V3</th>\n",
       "      <th>V4</th>\n",
       "      <th>V5</th>\n",
       "      <th>V6</th>\n",
       "      <th>V7</th>\n",
       "      <th>V8</th>\n",
       "      <th>V9</th>\n",
       "      <th>...</th>\n",
       "      <th>V21</th>\n",
       "      <th>V22</th>\n",
       "      <th>V23</th>\n",
       "      <th>V24</th>\n",
       "      <th>V25</th>\n",
       "      <th>V26</th>\n",
       "      <th>V27</th>\n",
       "      <th>V28</th>\n",
       "      <th>Amount</th>\n",
       "      <th>Class</th>\n",
       "    </tr>\n",
       "  </thead>\n",
       "  <tbody>\n",
       "    <tr>\n",
       "      <th>0</th>\n",
       "      <td>0.0</td>\n",
       "      <td>-1.359807</td>\n",
       "      <td>-0.072781</td>\n",
       "      <td>2.536347</td>\n",
       "      <td>1.378155</td>\n",
       "      <td>-0.338321</td>\n",
       "      <td>0.462388</td>\n",
       "      <td>0.239599</td>\n",
       "      <td>0.098698</td>\n",
       "      <td>0.363787</td>\n",
       "      <td>...</td>\n",
       "      <td>-0.018307</td>\n",
       "      <td>0.277838</td>\n",
       "      <td>-0.110474</td>\n",
       "      <td>0.066928</td>\n",
       "      <td>0.128539</td>\n",
       "      <td>-0.189115</td>\n",
       "      <td>0.133558</td>\n",
       "      <td>-0.021053</td>\n",
       "      <td>149.62</td>\n",
       "      <td>0</td>\n",
       "    </tr>\n",
       "    <tr>\n",
       "      <th>1</th>\n",
       "      <td>0.0</td>\n",
       "      <td>1.191857</td>\n",
       "      <td>0.266151</td>\n",
       "      <td>0.166480</td>\n",
       "      <td>0.448154</td>\n",
       "      <td>0.060018</td>\n",
       "      <td>-0.082361</td>\n",
       "      <td>-0.078803</td>\n",
       "      <td>0.085102</td>\n",
       "      <td>-0.255425</td>\n",
       "      <td>...</td>\n",
       "      <td>-0.225775</td>\n",
       "      <td>-0.638672</td>\n",
       "      <td>0.101288</td>\n",
       "      <td>-0.339846</td>\n",
       "      <td>0.167170</td>\n",
       "      <td>0.125895</td>\n",
       "      <td>-0.008983</td>\n",
       "      <td>0.014724</td>\n",
       "      <td>2.69</td>\n",
       "      <td>0</td>\n",
       "    </tr>\n",
       "    <tr>\n",
       "      <th>2</th>\n",
       "      <td>1.0</td>\n",
       "      <td>-1.358354</td>\n",
       "      <td>-1.340163</td>\n",
       "      <td>1.773209</td>\n",
       "      <td>0.379780</td>\n",
       "      <td>-0.503198</td>\n",
       "      <td>1.800499</td>\n",
       "      <td>0.791461</td>\n",
       "      <td>0.247676</td>\n",
       "      <td>-1.514654</td>\n",
       "      <td>...</td>\n",
       "      <td>0.247998</td>\n",
       "      <td>0.771679</td>\n",
       "      <td>0.909412</td>\n",
       "      <td>-0.689281</td>\n",
       "      <td>-0.327642</td>\n",
       "      <td>-0.139097</td>\n",
       "      <td>-0.055353</td>\n",
       "      <td>-0.059752</td>\n",
       "      <td>378.66</td>\n",
       "      <td>0</td>\n",
       "    </tr>\n",
       "    <tr>\n",
       "      <th>3</th>\n",
       "      <td>1.0</td>\n",
       "      <td>-0.966272</td>\n",
       "      <td>-0.185226</td>\n",
       "      <td>1.792993</td>\n",
       "      <td>-0.863291</td>\n",
       "      <td>-0.010309</td>\n",
       "      <td>1.247203</td>\n",
       "      <td>0.237609</td>\n",
       "      <td>0.377436</td>\n",
       "      <td>-1.387024</td>\n",
       "      <td>...</td>\n",
       "      <td>-0.108300</td>\n",
       "      <td>0.005274</td>\n",
       "      <td>-0.190321</td>\n",
       "      <td>-1.175575</td>\n",
       "      <td>0.647376</td>\n",
       "      <td>-0.221929</td>\n",
       "      <td>0.062723</td>\n",
       "      <td>0.061458</td>\n",
       "      <td>123.50</td>\n",
       "      <td>0</td>\n",
       "    </tr>\n",
       "    <tr>\n",
       "      <th>4</th>\n",
       "      <td>2.0</td>\n",
       "      <td>-1.158233</td>\n",
       "      <td>0.877737</td>\n",
       "      <td>1.548718</td>\n",
       "      <td>0.403034</td>\n",
       "      <td>-0.407193</td>\n",
       "      <td>0.095921</td>\n",
       "      <td>0.592941</td>\n",
       "      <td>-0.270533</td>\n",
       "      <td>0.817739</td>\n",
       "      <td>...</td>\n",
       "      <td>-0.009431</td>\n",
       "      <td>0.798278</td>\n",
       "      <td>-0.137458</td>\n",
       "      <td>0.141267</td>\n",
       "      <td>-0.206010</td>\n",
       "      <td>0.502292</td>\n",
       "      <td>0.219422</td>\n",
       "      <td>0.215153</td>\n",
       "      <td>69.99</td>\n",
       "      <td>0</td>\n",
       "    </tr>\n",
       "  </tbody>\n",
       "</table>\n",
       "<p>5 rows × 31 columns</p>\n",
       "</div>"
      ],
      "text/plain": [
       "   Time        V1        V2        V3        V4        V5        V6        V7  \\\n",
       "0   0.0 -1.359807 -0.072781  2.536347  1.378155 -0.338321  0.462388  0.239599   \n",
       "1   0.0  1.191857  0.266151  0.166480  0.448154  0.060018 -0.082361 -0.078803   \n",
       "2   1.0 -1.358354 -1.340163  1.773209  0.379780 -0.503198  1.800499  0.791461   \n",
       "3   1.0 -0.966272 -0.185226  1.792993 -0.863291 -0.010309  1.247203  0.237609   \n",
       "4   2.0 -1.158233  0.877737  1.548718  0.403034 -0.407193  0.095921  0.592941   \n",
       "\n",
       "         V8        V9  ...       V21       V22       V23       V24       V25  \\\n",
       "0  0.098698  0.363787  ... -0.018307  0.277838 -0.110474  0.066928  0.128539   \n",
       "1  0.085102 -0.255425  ... -0.225775 -0.638672  0.101288 -0.339846  0.167170   \n",
       "2  0.247676 -1.514654  ...  0.247998  0.771679  0.909412 -0.689281 -0.327642   \n",
       "3  0.377436 -1.387024  ... -0.108300  0.005274 -0.190321 -1.175575  0.647376   \n",
       "4 -0.270533  0.817739  ... -0.009431  0.798278 -0.137458  0.141267 -0.206010   \n",
       "\n",
       "        V26       V27       V28  Amount  Class  \n",
       "0 -0.189115  0.133558 -0.021053  149.62      0  \n",
       "1  0.125895 -0.008983  0.014724    2.69      0  \n",
       "2 -0.139097 -0.055353 -0.059752  378.66      0  \n",
       "3 -0.221929  0.062723  0.061458  123.50      0  \n",
       "4  0.502292  0.219422  0.215153   69.99      0  \n",
       "\n",
       "[5 rows x 31 columns]"
      ]
     },
     "execution_count": 3,
     "metadata": {},
     "output_type": "execute_result"
    }
   ],
   "source": [
    "cc_data.head()"
   ]
  },
  {
   "cell_type": "code",
   "execution_count": 4,
   "id": "9d7416e5",
   "metadata": {},
   "outputs": [
    {
     "name": "stdout",
     "output_type": "stream",
     "text": [
      "<class 'pandas.core.frame.DataFrame'>\n",
      "RangeIndex: 284807 entries, 0 to 284806\n",
      "Data columns (total 31 columns):\n",
      " #   Column  Non-Null Count   Dtype  \n",
      "---  ------  --------------   -----  \n",
      " 0   Time    284807 non-null  float64\n",
      " 1   V1      284807 non-null  float64\n",
      " 2   V2      284807 non-null  float64\n",
      " 3   V3      284807 non-null  float64\n",
      " 4   V4      284807 non-null  float64\n",
      " 5   V5      284807 non-null  float64\n",
      " 6   V6      284807 non-null  float64\n",
      " 7   V7      284807 non-null  float64\n",
      " 8   V8      284807 non-null  float64\n",
      " 9   V9      284807 non-null  float64\n",
      " 10  V10     284807 non-null  float64\n",
      " 11  V11     284807 non-null  float64\n",
      " 12  V12     284807 non-null  float64\n",
      " 13  V13     284807 non-null  float64\n",
      " 14  V14     284807 non-null  float64\n",
      " 15  V15     284807 non-null  float64\n",
      " 16  V16     284807 non-null  float64\n",
      " 17  V17     284807 non-null  float64\n",
      " 18  V18     284807 non-null  float64\n",
      " 19  V19     284807 non-null  float64\n",
      " 20  V20     284807 non-null  float64\n",
      " 21  V21     284807 non-null  float64\n",
      " 22  V22     284807 non-null  float64\n",
      " 23  V23     284807 non-null  float64\n",
      " 24  V24     284807 non-null  float64\n",
      " 25  V25     284807 non-null  float64\n",
      " 26  V26     284807 non-null  float64\n",
      " 27  V27     284807 non-null  float64\n",
      " 28  V28     284807 non-null  float64\n",
      " 29  Amount  284807 non-null  float64\n",
      " 30  Class   284807 non-null  int64  \n",
      "dtypes: float64(30), int64(1)\n",
      "memory usage: 67.4 MB\n"
     ]
    }
   ],
   "source": [
    "cc_data.info()"
   ]
  },
  {
   "cell_type": "code",
   "execution_count": 5,
   "id": "49ede436",
   "metadata": {},
   "outputs": [
    {
     "data": {
      "text/plain": [
       "0    284315\n",
       "1       492\n",
       "Name: Class, dtype: int64"
      ]
     },
     "execution_count": 5,
     "metadata": {},
     "output_type": "execute_result"
    }
   ],
   "source": [
    "cc_data['Class'].value_counts()"
   ]
  },
  {
   "cell_type": "markdown",
   "id": "7f80fab9",
   "metadata": {},
   "source": [
    "#### We can see that the data is highly unbalanced\n",
    "0 => Normal Transaction  \n",
    "1 => Fraudulent Transaction  \n",
    "#### For analysis we will seperate our data into Legit and Fraud"
   ]
  },
  {
   "cell_type": "code",
   "execution_count": 6,
   "id": "977fd6a7",
   "metadata": {},
   "outputs": [],
   "source": [
    "legit = cc_data[cc_data.Class==0]\n",
    "fraud = cc_data[cc_data.Class==1]"
   ]
  },
  {
   "cell_type": "code",
   "execution_count": 7,
   "id": "57526912",
   "metadata": {},
   "outputs": [
    {
     "data": {
      "text/plain": [
       "((284315, 31), (492, 31))"
      ]
     },
     "execution_count": 7,
     "metadata": {},
     "output_type": "execute_result"
    }
   ],
   "source": [
    "legit.shape,fraud.shape"
   ]
  },
  {
   "cell_type": "code",
   "execution_count": 8,
   "id": "08dbb15b",
   "metadata": {},
   "outputs": [
    {
     "data": {
      "text/plain": [
       "count    284315.000000\n",
       "mean         88.291022\n",
       "std         250.105092\n",
       "min           0.000000\n",
       "25%           5.650000\n",
       "50%          22.000000\n",
       "75%          77.050000\n",
       "max       25691.160000\n",
       "Name: Amount, dtype: float64"
      ]
     },
     "execution_count": 8,
     "metadata": {},
     "output_type": "execute_result"
    }
   ],
   "source": [
    "legit.Amount.describe()"
   ]
  },
  {
   "cell_type": "code",
   "execution_count": 9,
   "id": "380279d7",
   "metadata": {},
   "outputs": [
    {
     "data": {
      "text/plain": [
       "count     492.000000\n",
       "mean      122.211321\n",
       "std       256.683288\n",
       "min         0.000000\n",
       "25%         1.000000\n",
       "50%         9.250000\n",
       "75%       105.890000\n",
       "max      2125.870000\n",
       "Name: Amount, dtype: float64"
      ]
     },
     "execution_count": 9,
     "metadata": {},
     "output_type": "execute_result"
    }
   ],
   "source": [
    "fraud.Amount.describe()"
   ]
  },
  {
   "cell_type": "code",
   "execution_count": 10,
   "id": "cfb4e293",
   "metadata": {},
   "outputs": [
    {
     "data": {
      "text/html": [
       "<div>\n",
       "<style scoped>\n",
       "    .dataframe tbody tr th:only-of-type {\n",
       "        vertical-align: middle;\n",
       "    }\n",
       "\n",
       "    .dataframe tbody tr th {\n",
       "        vertical-align: top;\n",
       "    }\n",
       "\n",
       "    .dataframe thead th {\n",
       "        text-align: right;\n",
       "    }\n",
       "</style>\n",
       "<table border=\"1\" class=\"dataframe\">\n",
       "  <thead>\n",
       "    <tr style=\"text-align: right;\">\n",
       "      <th></th>\n",
       "      <th>Time</th>\n",
       "      <th>V1</th>\n",
       "      <th>V2</th>\n",
       "      <th>V3</th>\n",
       "      <th>V4</th>\n",
       "      <th>V5</th>\n",
       "      <th>V6</th>\n",
       "      <th>V7</th>\n",
       "      <th>V8</th>\n",
       "      <th>V9</th>\n",
       "      <th>...</th>\n",
       "      <th>V20</th>\n",
       "      <th>V21</th>\n",
       "      <th>V22</th>\n",
       "      <th>V23</th>\n",
       "      <th>V24</th>\n",
       "      <th>V25</th>\n",
       "      <th>V26</th>\n",
       "      <th>V27</th>\n",
       "      <th>V28</th>\n",
       "      <th>Amount</th>\n",
       "    </tr>\n",
       "    <tr>\n",
       "      <th>Class</th>\n",
       "      <th></th>\n",
       "      <th></th>\n",
       "      <th></th>\n",
       "      <th></th>\n",
       "      <th></th>\n",
       "      <th></th>\n",
       "      <th></th>\n",
       "      <th></th>\n",
       "      <th></th>\n",
       "      <th></th>\n",
       "      <th></th>\n",
       "      <th></th>\n",
       "      <th></th>\n",
       "      <th></th>\n",
       "      <th></th>\n",
       "      <th></th>\n",
       "      <th></th>\n",
       "      <th></th>\n",
       "      <th></th>\n",
       "      <th></th>\n",
       "      <th></th>\n",
       "    </tr>\n",
       "  </thead>\n",
       "  <tbody>\n",
       "    <tr>\n",
       "      <th>0</th>\n",
       "      <td>94838.202258</td>\n",
       "      <td>0.008258</td>\n",
       "      <td>-0.006271</td>\n",
       "      <td>0.012171</td>\n",
       "      <td>-0.007860</td>\n",
       "      <td>0.005453</td>\n",
       "      <td>0.002419</td>\n",
       "      <td>0.009637</td>\n",
       "      <td>-0.000987</td>\n",
       "      <td>0.004467</td>\n",
       "      <td>...</td>\n",
       "      <td>-0.000644</td>\n",
       "      <td>-0.001235</td>\n",
       "      <td>-0.000024</td>\n",
       "      <td>0.000070</td>\n",
       "      <td>0.000182</td>\n",
       "      <td>-0.000072</td>\n",
       "      <td>-0.000089</td>\n",
       "      <td>-0.000295</td>\n",
       "      <td>-0.000131</td>\n",
       "      <td>88.291022</td>\n",
       "    </tr>\n",
       "    <tr>\n",
       "      <th>1</th>\n",
       "      <td>80746.806911</td>\n",
       "      <td>-4.771948</td>\n",
       "      <td>3.623778</td>\n",
       "      <td>-7.033281</td>\n",
       "      <td>4.542029</td>\n",
       "      <td>-3.151225</td>\n",
       "      <td>-1.397737</td>\n",
       "      <td>-5.568731</td>\n",
       "      <td>0.570636</td>\n",
       "      <td>-2.581123</td>\n",
       "      <td>...</td>\n",
       "      <td>0.372319</td>\n",
       "      <td>0.713588</td>\n",
       "      <td>0.014049</td>\n",
       "      <td>-0.040308</td>\n",
       "      <td>-0.105130</td>\n",
       "      <td>0.041449</td>\n",
       "      <td>0.051648</td>\n",
       "      <td>0.170575</td>\n",
       "      <td>0.075667</td>\n",
       "      <td>122.211321</td>\n",
       "    </tr>\n",
       "  </tbody>\n",
       "</table>\n",
       "<p>2 rows × 30 columns</p>\n",
       "</div>"
      ],
      "text/plain": [
       "               Time        V1        V2        V3        V4        V5  \\\n",
       "Class                                                                   \n",
       "0      94838.202258  0.008258 -0.006271  0.012171 -0.007860  0.005453   \n",
       "1      80746.806911 -4.771948  3.623778 -7.033281  4.542029 -3.151225   \n",
       "\n",
       "             V6        V7        V8        V9  ...       V20       V21  \\\n",
       "Class                                          ...                       \n",
       "0      0.002419  0.009637 -0.000987  0.004467  ... -0.000644 -0.001235   \n",
       "1     -1.397737 -5.568731  0.570636 -2.581123  ...  0.372319  0.713588   \n",
       "\n",
       "            V22       V23       V24       V25       V26       V27       V28  \\\n",
       "Class                                                                         \n",
       "0     -0.000024  0.000070  0.000182 -0.000072 -0.000089 -0.000295 -0.000131   \n",
       "1      0.014049 -0.040308 -0.105130  0.041449  0.051648  0.170575  0.075667   \n",
       "\n",
       "           Amount  \n",
       "Class              \n",
       "0       88.291022  \n",
       "1      122.211321  \n",
       "\n",
       "[2 rows x 30 columns]"
      ]
     },
     "execution_count": 10,
     "metadata": {},
     "output_type": "execute_result"
    }
   ],
   "source": [
    "cc_data.groupby('Class').mean()"
   ]
  },
  {
   "cell_type": "markdown",
   "id": "662a796b",
   "metadata": {},
   "source": [
    "### Undersampling\n",
    "**Build a sample dataset containing similar distribution of Legit transactions and Fraud transactions.**  \n",
    "  \n",
    "Number of Fraud transactions = 492  \n",
    "so, we'll select 492 Legit transactions to make them equal  \n",
    "As the Data was imbalanced"
   ]
  },
  {
   "cell_type": "code",
   "execution_count": 11,
   "id": "6d2827f7",
   "metadata": {},
   "outputs": [],
   "source": [
    "legit_sample = legit.sample(n=492)"
   ]
  },
  {
   "cell_type": "markdown",
   "id": "651dc0d7",
   "metadata": {},
   "source": [
    "Concatinating the two DataFrames : legit_sample and fraud"
   ]
  },
  {
   "cell_type": "code",
   "execution_count": 12,
   "id": "ec5321cd",
   "metadata": {},
   "outputs": [],
   "source": [
    "new_df = pd.concat([legit_sample, fraud], axis=0)"
   ]
  },
  {
   "cell_type": "code",
   "execution_count": 13,
   "id": "0d88e4fc",
   "metadata": {},
   "outputs": [
    {
     "data": {
      "text/html": [
       "<div>\n",
       "<style scoped>\n",
       "    .dataframe tbody tr th:only-of-type {\n",
       "        vertical-align: middle;\n",
       "    }\n",
       "\n",
       "    .dataframe tbody tr th {\n",
       "        vertical-align: top;\n",
       "    }\n",
       "\n",
       "    .dataframe thead th {\n",
       "        text-align: right;\n",
       "    }\n",
       "</style>\n",
       "<table border=\"1\" class=\"dataframe\">\n",
       "  <thead>\n",
       "    <tr style=\"text-align: right;\">\n",
       "      <th></th>\n",
       "      <th>Time</th>\n",
       "      <th>V1</th>\n",
       "      <th>V2</th>\n",
       "      <th>V3</th>\n",
       "      <th>V4</th>\n",
       "      <th>V5</th>\n",
       "      <th>V6</th>\n",
       "      <th>V7</th>\n",
       "      <th>V8</th>\n",
       "      <th>V9</th>\n",
       "      <th>...</th>\n",
       "      <th>V21</th>\n",
       "      <th>V22</th>\n",
       "      <th>V23</th>\n",
       "      <th>V24</th>\n",
       "      <th>V25</th>\n",
       "      <th>V26</th>\n",
       "      <th>V27</th>\n",
       "      <th>V28</th>\n",
       "      <th>Amount</th>\n",
       "      <th>Class</th>\n",
       "    </tr>\n",
       "  </thead>\n",
       "  <tbody>\n",
       "    <tr>\n",
       "      <th>6689</th>\n",
       "      <td>8309.0</td>\n",
       "      <td>-1.381561</td>\n",
       "      <td>-0.283637</td>\n",
       "      <td>3.697714</td>\n",
       "      <td>-0.303159</td>\n",
       "      <td>-0.521208</td>\n",
       "      <td>0.933298</td>\n",
       "      <td>-0.935523</td>\n",
       "      <td>0.448158</td>\n",
       "      <td>2.842411</td>\n",
       "      <td>...</td>\n",
       "      <td>-0.091069</td>\n",
       "      <td>0.686189</td>\n",
       "      <td>-0.442119</td>\n",
       "      <td>0.290457</td>\n",
       "      <td>0.138268</td>\n",
       "      <td>1.122174</td>\n",
       "      <td>0.031293</td>\n",
       "      <td>-0.142384</td>\n",
       "      <td>10.23</td>\n",
       "      <td>0</td>\n",
       "    </tr>\n",
       "    <tr>\n",
       "      <th>114493</th>\n",
       "      <td>73508.0</td>\n",
       "      <td>-0.738367</td>\n",
       "      <td>1.242289</td>\n",
       "      <td>2.134420</td>\n",
       "      <td>0.868145</td>\n",
       "      <td>0.057421</td>\n",
       "      <td>-0.421406</td>\n",
       "      <td>0.733229</td>\n",
       "      <td>-0.084135</td>\n",
       "      <td>-0.907133</td>\n",
       "      <td>...</td>\n",
       "      <td>0.096063</td>\n",
       "      <td>0.305370</td>\n",
       "      <td>-0.222931</td>\n",
       "      <td>0.623270</td>\n",
       "      <td>0.245839</td>\n",
       "      <td>-0.325008</td>\n",
       "      <td>-0.031179</td>\n",
       "      <td>0.086820</td>\n",
       "      <td>4.99</td>\n",
       "      <td>0</td>\n",
       "    </tr>\n",
       "    <tr>\n",
       "      <th>179631</th>\n",
       "      <td>124168.0</td>\n",
       "      <td>0.444175</td>\n",
       "      <td>0.000043</td>\n",
       "      <td>-0.487265</td>\n",
       "      <td>-0.582484</td>\n",
       "      <td>0.290488</td>\n",
       "      <td>1.426646</td>\n",
       "      <td>0.070464</td>\n",
       "      <td>0.138651</td>\n",
       "      <td>-1.721134</td>\n",
       "      <td>...</td>\n",
       "      <td>0.737737</td>\n",
       "      <td>2.340209</td>\n",
       "      <td>-0.032424</td>\n",
       "      <td>-1.522003</td>\n",
       "      <td>-1.381636</td>\n",
       "      <td>0.413007</td>\n",
       "      <td>0.262067</td>\n",
       "      <td>0.235037</td>\n",
       "      <td>80.75</td>\n",
       "      <td>0</td>\n",
       "    </tr>\n",
       "    <tr>\n",
       "      <th>272368</th>\n",
       "      <td>165050.0</td>\n",
       "      <td>-1.152174</td>\n",
       "      <td>-0.915950</td>\n",
       "      <td>0.595726</td>\n",
       "      <td>-2.696335</td>\n",
       "      <td>-0.909675</td>\n",
       "      <td>-1.045305</td>\n",
       "      <td>-0.498195</td>\n",
       "      <td>0.356798</td>\n",
       "      <td>-1.952584</td>\n",
       "      <td>...</td>\n",
       "      <td>-0.006070</td>\n",
       "      <td>0.024704</td>\n",
       "      <td>0.072015</td>\n",
       "      <td>-0.153984</td>\n",
       "      <td>-0.082207</td>\n",
       "      <td>-0.268215</td>\n",
       "      <td>0.238720</td>\n",
       "      <td>0.049768</td>\n",
       "      <td>91.81</td>\n",
       "      <td>0</td>\n",
       "    </tr>\n",
       "    <tr>\n",
       "      <th>6360</th>\n",
       "      <td>7578.0</td>\n",
       "      <td>-0.327810</td>\n",
       "      <td>1.049523</td>\n",
       "      <td>1.809870</td>\n",
       "      <td>1.036585</td>\n",
       "      <td>0.344085</td>\n",
       "      <td>0.373102</td>\n",
       "      <td>0.590811</td>\n",
       "      <td>-0.118552</td>\n",
       "      <td>0.704920</td>\n",
       "      <td>...</td>\n",
       "      <td>-0.192627</td>\n",
       "      <td>-0.059591</td>\n",
       "      <td>-0.142747</td>\n",
       "      <td>-0.427798</td>\n",
       "      <td>-0.255274</td>\n",
       "      <td>-0.423469</td>\n",
       "      <td>0.213196</td>\n",
       "      <td>-0.030252</td>\n",
       "      <td>36.00</td>\n",
       "      <td>0</td>\n",
       "    </tr>\n",
       "  </tbody>\n",
       "</table>\n",
       "<p>5 rows × 31 columns</p>\n",
       "</div>"
      ],
      "text/plain": [
       "            Time        V1        V2        V3        V4        V5        V6  \\\n",
       "6689      8309.0 -1.381561 -0.283637  3.697714 -0.303159 -0.521208  0.933298   \n",
       "114493   73508.0 -0.738367  1.242289  2.134420  0.868145  0.057421 -0.421406   \n",
       "179631  124168.0  0.444175  0.000043 -0.487265 -0.582484  0.290488  1.426646   \n",
       "272368  165050.0 -1.152174 -0.915950  0.595726 -2.696335 -0.909675 -1.045305   \n",
       "6360      7578.0 -0.327810  1.049523  1.809870  1.036585  0.344085  0.373102   \n",
       "\n",
       "              V7        V8        V9  ...       V21       V22       V23  \\\n",
       "6689   -0.935523  0.448158  2.842411  ... -0.091069  0.686189 -0.442119   \n",
       "114493  0.733229 -0.084135 -0.907133  ...  0.096063  0.305370 -0.222931   \n",
       "179631  0.070464  0.138651 -1.721134  ...  0.737737  2.340209 -0.032424   \n",
       "272368 -0.498195  0.356798 -1.952584  ... -0.006070  0.024704  0.072015   \n",
       "6360    0.590811 -0.118552  0.704920  ... -0.192627 -0.059591 -0.142747   \n",
       "\n",
       "             V24       V25       V26       V27       V28  Amount  Class  \n",
       "6689    0.290457  0.138268  1.122174  0.031293 -0.142384   10.23      0  \n",
       "114493  0.623270  0.245839 -0.325008 -0.031179  0.086820    4.99      0  \n",
       "179631 -1.522003 -1.381636  0.413007  0.262067  0.235037   80.75      0  \n",
       "272368 -0.153984 -0.082207 -0.268215  0.238720  0.049768   91.81      0  \n",
       "6360   -0.427798 -0.255274 -0.423469  0.213196 -0.030252   36.00      0  \n",
       "\n",
       "[5 rows x 31 columns]"
      ]
     },
     "execution_count": 13,
     "metadata": {},
     "output_type": "execute_result"
    }
   ],
   "source": [
    "new_df.head()"
   ]
  },
  {
   "cell_type": "code",
   "execution_count": 14,
   "id": "b749e688",
   "metadata": {},
   "outputs": [
    {
     "data": {
      "text/html": [
       "<div>\n",
       "<style scoped>\n",
       "    .dataframe tbody tr th:only-of-type {\n",
       "        vertical-align: middle;\n",
       "    }\n",
       "\n",
       "    .dataframe tbody tr th {\n",
       "        vertical-align: top;\n",
       "    }\n",
       "\n",
       "    .dataframe thead th {\n",
       "        text-align: right;\n",
       "    }\n",
       "</style>\n",
       "<table border=\"1\" class=\"dataframe\">\n",
       "  <thead>\n",
       "    <tr style=\"text-align: right;\">\n",
       "      <th></th>\n",
       "      <th>Time</th>\n",
       "      <th>V1</th>\n",
       "      <th>V2</th>\n",
       "      <th>V3</th>\n",
       "      <th>V4</th>\n",
       "      <th>V5</th>\n",
       "      <th>V6</th>\n",
       "      <th>V7</th>\n",
       "      <th>V8</th>\n",
       "      <th>V9</th>\n",
       "      <th>...</th>\n",
       "      <th>V21</th>\n",
       "      <th>V22</th>\n",
       "      <th>V23</th>\n",
       "      <th>V24</th>\n",
       "      <th>V25</th>\n",
       "      <th>V26</th>\n",
       "      <th>V27</th>\n",
       "      <th>V28</th>\n",
       "      <th>Amount</th>\n",
       "      <th>Class</th>\n",
       "    </tr>\n",
       "  </thead>\n",
       "  <tbody>\n",
       "    <tr>\n",
       "      <th>279863</th>\n",
       "      <td>169142.0</td>\n",
       "      <td>-1.927883</td>\n",
       "      <td>1.125653</td>\n",
       "      <td>-4.518331</td>\n",
       "      <td>1.749293</td>\n",
       "      <td>-1.566487</td>\n",
       "      <td>-2.010494</td>\n",
       "      <td>-0.882850</td>\n",
       "      <td>0.697211</td>\n",
       "      <td>-2.064945</td>\n",
       "      <td>...</td>\n",
       "      <td>0.778584</td>\n",
       "      <td>-0.319189</td>\n",
       "      <td>0.639419</td>\n",
       "      <td>-0.294885</td>\n",
       "      <td>0.537503</td>\n",
       "      <td>0.788395</td>\n",
       "      <td>0.292680</td>\n",
       "      <td>0.147968</td>\n",
       "      <td>390.00</td>\n",
       "      <td>1</td>\n",
       "    </tr>\n",
       "    <tr>\n",
       "      <th>280143</th>\n",
       "      <td>169347.0</td>\n",
       "      <td>1.378559</td>\n",
       "      <td>1.289381</td>\n",
       "      <td>-5.004247</td>\n",
       "      <td>1.411850</td>\n",
       "      <td>0.442581</td>\n",
       "      <td>-1.326536</td>\n",
       "      <td>-1.413170</td>\n",
       "      <td>0.248525</td>\n",
       "      <td>-1.127396</td>\n",
       "      <td>...</td>\n",
       "      <td>0.370612</td>\n",
       "      <td>0.028234</td>\n",
       "      <td>-0.145640</td>\n",
       "      <td>-0.081049</td>\n",
       "      <td>0.521875</td>\n",
       "      <td>0.739467</td>\n",
       "      <td>0.389152</td>\n",
       "      <td>0.186637</td>\n",
       "      <td>0.76</td>\n",
       "      <td>1</td>\n",
       "    </tr>\n",
       "    <tr>\n",
       "      <th>280149</th>\n",
       "      <td>169351.0</td>\n",
       "      <td>-0.676143</td>\n",
       "      <td>1.126366</td>\n",
       "      <td>-2.213700</td>\n",
       "      <td>0.468308</td>\n",
       "      <td>-1.120541</td>\n",
       "      <td>-0.003346</td>\n",
       "      <td>-2.234739</td>\n",
       "      <td>1.210158</td>\n",
       "      <td>-0.652250</td>\n",
       "      <td>...</td>\n",
       "      <td>0.751826</td>\n",
       "      <td>0.834108</td>\n",
       "      <td>0.190944</td>\n",
       "      <td>0.032070</td>\n",
       "      <td>-0.739695</td>\n",
       "      <td>0.471111</td>\n",
       "      <td>0.385107</td>\n",
       "      <td>0.194361</td>\n",
       "      <td>77.89</td>\n",
       "      <td>1</td>\n",
       "    </tr>\n",
       "    <tr>\n",
       "      <th>281144</th>\n",
       "      <td>169966.0</td>\n",
       "      <td>-3.113832</td>\n",
       "      <td>0.585864</td>\n",
       "      <td>-5.399730</td>\n",
       "      <td>1.817092</td>\n",
       "      <td>-0.840618</td>\n",
       "      <td>-2.943548</td>\n",
       "      <td>-2.208002</td>\n",
       "      <td>1.058733</td>\n",
       "      <td>-1.632333</td>\n",
       "      <td>...</td>\n",
       "      <td>0.583276</td>\n",
       "      <td>-0.269209</td>\n",
       "      <td>-0.456108</td>\n",
       "      <td>-0.183659</td>\n",
       "      <td>-0.328168</td>\n",
       "      <td>0.606116</td>\n",
       "      <td>0.884876</td>\n",
       "      <td>-0.253700</td>\n",
       "      <td>245.00</td>\n",
       "      <td>1</td>\n",
       "    </tr>\n",
       "    <tr>\n",
       "      <th>281674</th>\n",
       "      <td>170348.0</td>\n",
       "      <td>1.991976</td>\n",
       "      <td>0.158476</td>\n",
       "      <td>-2.583441</td>\n",
       "      <td>0.408670</td>\n",
       "      <td>1.151147</td>\n",
       "      <td>-0.096695</td>\n",
       "      <td>0.223050</td>\n",
       "      <td>-0.068384</td>\n",
       "      <td>0.577829</td>\n",
       "      <td>...</td>\n",
       "      <td>-0.164350</td>\n",
       "      <td>-0.295135</td>\n",
       "      <td>-0.072173</td>\n",
       "      <td>-0.450261</td>\n",
       "      <td>0.313267</td>\n",
       "      <td>-0.289617</td>\n",
       "      <td>0.002988</td>\n",
       "      <td>-0.015309</td>\n",
       "      <td>42.53</td>\n",
       "      <td>1</td>\n",
       "    </tr>\n",
       "  </tbody>\n",
       "</table>\n",
       "<p>5 rows × 31 columns</p>\n",
       "</div>"
      ],
      "text/plain": [
       "            Time        V1        V2        V3        V4        V5        V6  \\\n",
       "279863  169142.0 -1.927883  1.125653 -4.518331  1.749293 -1.566487 -2.010494   \n",
       "280143  169347.0  1.378559  1.289381 -5.004247  1.411850  0.442581 -1.326536   \n",
       "280149  169351.0 -0.676143  1.126366 -2.213700  0.468308 -1.120541 -0.003346   \n",
       "281144  169966.0 -3.113832  0.585864 -5.399730  1.817092 -0.840618 -2.943548   \n",
       "281674  170348.0  1.991976  0.158476 -2.583441  0.408670  1.151147 -0.096695   \n",
       "\n",
       "              V7        V8        V9  ...       V21       V22       V23  \\\n",
       "279863 -0.882850  0.697211 -2.064945  ...  0.778584 -0.319189  0.639419   \n",
       "280143 -1.413170  0.248525 -1.127396  ...  0.370612  0.028234 -0.145640   \n",
       "280149 -2.234739  1.210158 -0.652250  ...  0.751826  0.834108  0.190944   \n",
       "281144 -2.208002  1.058733 -1.632333  ...  0.583276 -0.269209 -0.456108   \n",
       "281674  0.223050 -0.068384  0.577829  ... -0.164350 -0.295135 -0.072173   \n",
       "\n",
       "             V24       V25       V26       V27       V28  Amount  Class  \n",
       "279863 -0.294885  0.537503  0.788395  0.292680  0.147968  390.00      1  \n",
       "280143 -0.081049  0.521875  0.739467  0.389152  0.186637    0.76      1  \n",
       "280149  0.032070 -0.739695  0.471111  0.385107  0.194361   77.89      1  \n",
       "281144 -0.183659 -0.328168  0.606116  0.884876 -0.253700  245.00      1  \n",
       "281674 -0.450261  0.313267 -0.289617  0.002988 -0.015309   42.53      1  \n",
       "\n",
       "[5 rows x 31 columns]"
      ]
     },
     "execution_count": 14,
     "metadata": {},
     "output_type": "execute_result"
    }
   ],
   "source": [
    "new_df.tail()"
   ]
  },
  {
   "cell_type": "code",
   "execution_count": 15,
   "id": "5df949e4",
   "metadata": {},
   "outputs": [
    {
     "data": {
      "text/plain": [
       "0    492\n",
       "1    492\n",
       "Name: Class, dtype: int64"
      ]
     },
     "execution_count": 15,
     "metadata": {},
     "output_type": "execute_result"
    }
   ],
   "source": [
    "new_df['Class'].value_counts()"
   ]
  },
  {
   "cell_type": "code",
   "execution_count": 16,
   "id": "4b1c524e",
   "metadata": {},
   "outputs": [
    {
     "data": {
      "text/html": [
       "<div>\n",
       "<style scoped>\n",
       "    .dataframe tbody tr th:only-of-type {\n",
       "        vertical-align: middle;\n",
       "    }\n",
       "\n",
       "    .dataframe tbody tr th {\n",
       "        vertical-align: top;\n",
       "    }\n",
       "\n",
       "    .dataframe thead th {\n",
       "        text-align: right;\n",
       "    }\n",
       "</style>\n",
       "<table border=\"1\" class=\"dataframe\">\n",
       "  <thead>\n",
       "    <tr style=\"text-align: right;\">\n",
       "      <th></th>\n",
       "      <th>Time</th>\n",
       "      <th>V1</th>\n",
       "      <th>V2</th>\n",
       "      <th>V3</th>\n",
       "      <th>V4</th>\n",
       "      <th>V5</th>\n",
       "      <th>V6</th>\n",
       "      <th>V7</th>\n",
       "      <th>V8</th>\n",
       "      <th>V9</th>\n",
       "      <th>...</th>\n",
       "      <th>V20</th>\n",
       "      <th>V21</th>\n",
       "      <th>V22</th>\n",
       "      <th>V23</th>\n",
       "      <th>V24</th>\n",
       "      <th>V25</th>\n",
       "      <th>V26</th>\n",
       "      <th>V27</th>\n",
       "      <th>V28</th>\n",
       "      <th>Amount</th>\n",
       "    </tr>\n",
       "    <tr>\n",
       "      <th>Class</th>\n",
       "      <th></th>\n",
       "      <th></th>\n",
       "      <th></th>\n",
       "      <th></th>\n",
       "      <th></th>\n",
       "      <th></th>\n",
       "      <th></th>\n",
       "      <th></th>\n",
       "      <th></th>\n",
       "      <th></th>\n",
       "      <th></th>\n",
       "      <th></th>\n",
       "      <th></th>\n",
       "      <th></th>\n",
       "      <th></th>\n",
       "      <th></th>\n",
       "      <th></th>\n",
       "      <th></th>\n",
       "      <th></th>\n",
       "      <th></th>\n",
       "      <th></th>\n",
       "    </tr>\n",
       "  </thead>\n",
       "  <tbody>\n",
       "    <tr>\n",
       "      <th>0</th>\n",
       "      <td>98558.916667</td>\n",
       "      <td>0.136160</td>\n",
       "      <td>-0.039934</td>\n",
       "      <td>-0.035681</td>\n",
       "      <td>-0.082345</td>\n",
       "      <td>-0.108808</td>\n",
       "      <td>-0.066256</td>\n",
       "      <td>0.045881</td>\n",
       "      <td>0.040763</td>\n",
       "      <td>0.032302</td>\n",
       "      <td>...</td>\n",
       "      <td>-0.005850</td>\n",
       "      <td>0.012988</td>\n",
       "      <td>0.023212</td>\n",
       "      <td>-0.021402</td>\n",
       "      <td>0.023774</td>\n",
       "      <td>0.019147</td>\n",
       "      <td>0.012741</td>\n",
       "      <td>0.014574</td>\n",
       "      <td>-0.013860</td>\n",
       "      <td>94.448272</td>\n",
       "    </tr>\n",
       "    <tr>\n",
       "      <th>1</th>\n",
       "      <td>80746.806911</td>\n",
       "      <td>-4.771948</td>\n",
       "      <td>3.623778</td>\n",
       "      <td>-7.033281</td>\n",
       "      <td>4.542029</td>\n",
       "      <td>-3.151225</td>\n",
       "      <td>-1.397737</td>\n",
       "      <td>-5.568731</td>\n",
       "      <td>0.570636</td>\n",
       "      <td>-2.581123</td>\n",
       "      <td>...</td>\n",
       "      <td>0.372319</td>\n",
       "      <td>0.713588</td>\n",
       "      <td>0.014049</td>\n",
       "      <td>-0.040308</td>\n",
       "      <td>-0.105130</td>\n",
       "      <td>0.041449</td>\n",
       "      <td>0.051648</td>\n",
       "      <td>0.170575</td>\n",
       "      <td>0.075667</td>\n",
       "      <td>122.211321</td>\n",
       "    </tr>\n",
       "  </tbody>\n",
       "</table>\n",
       "<p>2 rows × 30 columns</p>\n",
       "</div>"
      ],
      "text/plain": [
       "               Time        V1        V2        V3        V4        V5  \\\n",
       "Class                                                                   \n",
       "0      98558.916667  0.136160 -0.039934 -0.035681 -0.082345 -0.108808   \n",
       "1      80746.806911 -4.771948  3.623778 -7.033281  4.542029 -3.151225   \n",
       "\n",
       "             V6        V7        V8        V9  ...       V20       V21  \\\n",
       "Class                                          ...                       \n",
       "0     -0.066256  0.045881  0.040763  0.032302  ... -0.005850  0.012988   \n",
       "1     -1.397737 -5.568731  0.570636 -2.581123  ...  0.372319  0.713588   \n",
       "\n",
       "            V22       V23       V24       V25       V26       V27       V28  \\\n",
       "Class                                                                         \n",
       "0      0.023212 -0.021402  0.023774  0.019147  0.012741  0.014574 -0.013860   \n",
       "1      0.014049 -0.040308 -0.105130  0.041449  0.051648  0.170575  0.075667   \n",
       "\n",
       "           Amount  \n",
       "Class              \n",
       "0       94.448272  \n",
       "1      122.211321  \n",
       "\n",
       "[2 rows x 30 columns]"
      ]
     },
     "execution_count": 16,
     "metadata": {},
     "output_type": "execute_result"
    }
   ],
   "source": [
    "new_df.groupby('Class').mean()"
   ]
  },
  {
   "cell_type": "markdown",
   "id": "0574ef98",
   "metadata": {},
   "source": [
    "#### Splitting data into Features & Targets"
   ]
  },
  {
   "cell_type": "code",
   "execution_count": 17,
   "id": "6d78db54",
   "metadata": {},
   "outputs": [],
   "source": [
    "X = new_df.drop(columns='Class', axis=1)\n",
    "Y = new_df['Class']"
   ]
  },
  {
   "cell_type": "code",
   "execution_count": 18,
   "id": "b08f1cc6",
   "metadata": {},
   "outputs": [
    {
     "data": {
      "text/html": [
       "<div>\n",
       "<style scoped>\n",
       "    .dataframe tbody tr th:only-of-type {\n",
       "        vertical-align: middle;\n",
       "    }\n",
       "\n",
       "    .dataframe tbody tr th {\n",
       "        vertical-align: top;\n",
       "    }\n",
       "\n",
       "    .dataframe thead th {\n",
       "        text-align: right;\n",
       "    }\n",
       "</style>\n",
       "<table border=\"1\" class=\"dataframe\">\n",
       "  <thead>\n",
       "    <tr style=\"text-align: right;\">\n",
       "      <th></th>\n",
       "      <th>Time</th>\n",
       "      <th>V1</th>\n",
       "      <th>V2</th>\n",
       "      <th>V3</th>\n",
       "      <th>V4</th>\n",
       "      <th>V5</th>\n",
       "      <th>V6</th>\n",
       "      <th>V7</th>\n",
       "      <th>V8</th>\n",
       "      <th>V9</th>\n",
       "      <th>...</th>\n",
       "      <th>V20</th>\n",
       "      <th>V21</th>\n",
       "      <th>V22</th>\n",
       "      <th>V23</th>\n",
       "      <th>V24</th>\n",
       "      <th>V25</th>\n",
       "      <th>V26</th>\n",
       "      <th>V27</th>\n",
       "      <th>V28</th>\n",
       "      <th>Amount</th>\n",
       "    </tr>\n",
       "  </thead>\n",
       "  <tbody>\n",
       "    <tr>\n",
       "      <th>6689</th>\n",
       "      <td>8309.0</td>\n",
       "      <td>-1.381561</td>\n",
       "      <td>-0.283637</td>\n",
       "      <td>3.697714</td>\n",
       "      <td>-0.303159</td>\n",
       "      <td>-0.521208</td>\n",
       "      <td>0.933298</td>\n",
       "      <td>-0.935523</td>\n",
       "      <td>0.448158</td>\n",
       "      <td>2.842411</td>\n",
       "      <td>...</td>\n",
       "      <td>-0.049470</td>\n",
       "      <td>-0.091069</td>\n",
       "      <td>0.686189</td>\n",
       "      <td>-0.442119</td>\n",
       "      <td>0.290457</td>\n",
       "      <td>0.138268</td>\n",
       "      <td>1.122174</td>\n",
       "      <td>0.031293</td>\n",
       "      <td>-0.142384</td>\n",
       "      <td>10.23</td>\n",
       "    </tr>\n",
       "    <tr>\n",
       "      <th>114493</th>\n",
       "      <td>73508.0</td>\n",
       "      <td>-0.738367</td>\n",
       "      <td>1.242289</td>\n",
       "      <td>2.134420</td>\n",
       "      <td>0.868145</td>\n",
       "      <td>0.057421</td>\n",
       "      <td>-0.421406</td>\n",
       "      <td>0.733229</td>\n",
       "      <td>-0.084135</td>\n",
       "      <td>-0.907133</td>\n",
       "      <td>...</td>\n",
       "      <td>0.048730</td>\n",
       "      <td>0.096063</td>\n",
       "      <td>0.305370</td>\n",
       "      <td>-0.222931</td>\n",
       "      <td>0.623270</td>\n",
       "      <td>0.245839</td>\n",
       "      <td>-0.325008</td>\n",
       "      <td>-0.031179</td>\n",
       "      <td>0.086820</td>\n",
       "      <td>4.99</td>\n",
       "    </tr>\n",
       "    <tr>\n",
       "      <th>179631</th>\n",
       "      <td>124168.0</td>\n",
       "      <td>0.444175</td>\n",
       "      <td>0.000043</td>\n",
       "      <td>-0.487265</td>\n",
       "      <td>-0.582484</td>\n",
       "      <td>0.290488</td>\n",
       "      <td>1.426646</td>\n",
       "      <td>0.070464</td>\n",
       "      <td>0.138651</td>\n",
       "      <td>-1.721134</td>\n",
       "      <td>...</td>\n",
       "      <td>0.293870</td>\n",
       "      <td>0.737737</td>\n",
       "      <td>2.340209</td>\n",
       "      <td>-0.032424</td>\n",
       "      <td>-1.522003</td>\n",
       "      <td>-1.381636</td>\n",
       "      <td>0.413007</td>\n",
       "      <td>0.262067</td>\n",
       "      <td>0.235037</td>\n",
       "      <td>80.75</td>\n",
       "    </tr>\n",
       "    <tr>\n",
       "      <th>272368</th>\n",
       "      <td>165050.0</td>\n",
       "      <td>-1.152174</td>\n",
       "      <td>-0.915950</td>\n",
       "      <td>0.595726</td>\n",
       "      <td>-2.696335</td>\n",
       "      <td>-0.909675</td>\n",
       "      <td>-1.045305</td>\n",
       "      <td>-0.498195</td>\n",
       "      <td>0.356798</td>\n",
       "      <td>-1.952584</td>\n",
       "      <td>...</td>\n",
       "      <td>-0.062624</td>\n",
       "      <td>-0.006070</td>\n",
       "      <td>0.024704</td>\n",
       "      <td>0.072015</td>\n",
       "      <td>-0.153984</td>\n",
       "      <td>-0.082207</td>\n",
       "      <td>-0.268215</td>\n",
       "      <td>0.238720</td>\n",
       "      <td>0.049768</td>\n",
       "      <td>91.81</td>\n",
       "    </tr>\n",
       "    <tr>\n",
       "      <th>6360</th>\n",
       "      <td>7578.0</td>\n",
       "      <td>-0.327810</td>\n",
       "      <td>1.049523</td>\n",
       "      <td>1.809870</td>\n",
       "      <td>1.036585</td>\n",
       "      <td>0.344085</td>\n",
       "      <td>0.373102</td>\n",
       "      <td>0.590811</td>\n",
       "      <td>-0.118552</td>\n",
       "      <td>0.704920</td>\n",
       "      <td>...</td>\n",
       "      <td>0.332835</td>\n",
       "      <td>-0.192627</td>\n",
       "      <td>-0.059591</td>\n",
       "      <td>-0.142747</td>\n",
       "      <td>-0.427798</td>\n",
       "      <td>-0.255274</td>\n",
       "      <td>-0.423469</td>\n",
       "      <td>0.213196</td>\n",
       "      <td>-0.030252</td>\n",
       "      <td>36.00</td>\n",
       "    </tr>\n",
       "  </tbody>\n",
       "</table>\n",
       "<p>5 rows × 30 columns</p>\n",
       "</div>"
      ],
      "text/plain": [
       "            Time        V1        V2        V3        V4        V5        V6  \\\n",
       "6689      8309.0 -1.381561 -0.283637  3.697714 -0.303159 -0.521208  0.933298   \n",
       "114493   73508.0 -0.738367  1.242289  2.134420  0.868145  0.057421 -0.421406   \n",
       "179631  124168.0  0.444175  0.000043 -0.487265 -0.582484  0.290488  1.426646   \n",
       "272368  165050.0 -1.152174 -0.915950  0.595726 -2.696335 -0.909675 -1.045305   \n",
       "6360      7578.0 -0.327810  1.049523  1.809870  1.036585  0.344085  0.373102   \n",
       "\n",
       "              V7        V8        V9  ...       V20       V21       V22  \\\n",
       "6689   -0.935523  0.448158  2.842411  ... -0.049470 -0.091069  0.686189   \n",
       "114493  0.733229 -0.084135 -0.907133  ...  0.048730  0.096063  0.305370   \n",
       "179631  0.070464  0.138651 -1.721134  ...  0.293870  0.737737  2.340209   \n",
       "272368 -0.498195  0.356798 -1.952584  ... -0.062624 -0.006070  0.024704   \n",
       "6360    0.590811 -0.118552  0.704920  ...  0.332835 -0.192627 -0.059591   \n",
       "\n",
       "             V23       V24       V25       V26       V27       V28  Amount  \n",
       "6689   -0.442119  0.290457  0.138268  1.122174  0.031293 -0.142384   10.23  \n",
       "114493 -0.222931  0.623270  0.245839 -0.325008 -0.031179  0.086820    4.99  \n",
       "179631 -0.032424 -1.522003 -1.381636  0.413007  0.262067  0.235037   80.75  \n",
       "272368  0.072015 -0.153984 -0.082207 -0.268215  0.238720  0.049768   91.81  \n",
       "6360   -0.142747 -0.427798 -0.255274 -0.423469  0.213196 -0.030252   36.00  \n",
       "\n",
       "[5 rows x 30 columns]"
      ]
     },
     "execution_count": 18,
     "metadata": {},
     "output_type": "execute_result"
    }
   ],
   "source": [
    "X.head()"
   ]
  },
  {
   "cell_type": "code",
   "execution_count": 19,
   "id": "7b2aeb42",
   "metadata": {},
   "outputs": [
    {
     "data": {
      "text/plain": [
       "6689      0\n",
       "114493    0\n",
       "179631    0\n",
       "272368    0\n",
       "6360      0\n",
       "         ..\n",
       "279863    1\n",
       "280143    1\n",
       "280149    1\n",
       "281144    1\n",
       "281674    1\n",
       "Name: Class, Length: 984, dtype: int64"
      ]
     },
     "execution_count": 19,
     "metadata": {},
     "output_type": "execute_result"
    }
   ],
   "source": [
    "Y"
   ]
  },
  {
   "cell_type": "markdown",
   "id": "3e191101",
   "metadata": {},
   "source": [
    "#### Splitting the data into Train and Test"
   ]
  },
  {
   "cell_type": "code",
   "execution_count": 20,
   "id": "cee7ba04",
   "metadata": {},
   "outputs": [],
   "source": [
    "from sklearn.model_selection import train_test_split"
   ]
  },
  {
   "cell_type": "code",
   "execution_count": 21,
   "id": "e3f5a259",
   "metadata": {},
   "outputs": [],
   "source": [
    "X_train, X_test, Y_train, Y_test = train_test_split(X,Y,test_size=0.2, stratify=Y, random_state=2)"
   ]
  },
  {
   "cell_type": "code",
   "execution_count": 22,
   "id": "2be19125",
   "metadata": {},
   "outputs": [
    {
     "data": {
      "text/plain": [
       "((984, 30), (787, 30), (197, 30))"
      ]
     },
     "execution_count": 22,
     "metadata": {},
     "output_type": "execute_result"
    }
   ],
   "source": [
    "X.shape, X_train.shape, X_test.shape"
   ]
  },
  {
   "cell_type": "code",
   "execution_count": 23,
   "id": "10f9db8b",
   "metadata": {},
   "outputs": [
    {
     "data": {
      "text/plain": [
       "((984,), (787,), (197,))"
      ]
     },
     "execution_count": 23,
     "metadata": {},
     "output_type": "execute_result"
    }
   ],
   "source": [
    "Y.shape, Y_train.shape, Y_test.shape"
   ]
  },
  {
   "cell_type": "markdown",
   "id": "6d86021f",
   "metadata": {},
   "source": [
    "## MODEL TRAINING \n",
    "We will we applying the following Algoritms :  \n",
    "* 1. Logistic Regression\n",
    "* 2. SVM\n",
    "* 3. Random Forest\n",
    "* 4. Bagging\n",
    "* 5. XGBoost"
   ]
  },
  {
   "cell_type": "code",
   "execution_count": 24,
   "id": "44d38221",
   "metadata": {},
   "outputs": [],
   "source": [
    "from sklearn.linear_model import LogisticRegression\n",
    "from sklearn.ensemble import RandomForestClassifier\n",
    "from sklearn.svm import SVC\n",
    "from sklearn.neighbors import KNeighborsClassifier\n",
    "\n",
    "from sklearn.metrics import accuracy_score"
   ]
  },
  {
   "cell_type": "markdown",
   "id": "bd6bbb00",
   "metadata": {},
   "source": [
    "### 1. LOGISTIC REGRESSION"
   ]
  },
  {
   "cell_type": "code",
   "execution_count": 25,
   "id": "9897ff76",
   "metadata": {},
   "outputs": [],
   "source": [
    "model = LogisticRegression()"
   ]
  },
  {
   "cell_type": "markdown",
   "id": "55353001",
   "metadata": {},
   "source": [
    "TRAINING OUR MODEL : "
   ]
  },
  {
   "cell_type": "code",
   "execution_count": 26,
   "id": "d798dc9a",
   "metadata": {},
   "outputs": [
    {
     "data": {
      "text/plain": [
       "LogisticRegression()"
      ]
     },
     "execution_count": 26,
     "metadata": {},
     "output_type": "execute_result"
    }
   ],
   "source": [
    "# training the Logistic Regression Model with Training Data\n",
    "\n",
    "model.fit(X_train, Y_train)"
   ]
  },
  {
   "cell_type": "markdown",
   "id": "471c3d93",
   "metadata": {},
   "source": [
    "#### Model Evaluation"
   ]
  },
  {
   "cell_type": "markdown",
   "id": "b5801dc4",
   "metadata": {},
   "source": [
    "PREDICTION : "
   ]
  },
  {
   "cell_type": "code",
   "execution_count": 27,
   "id": "56583ec8",
   "metadata": {},
   "outputs": [],
   "source": [
    "X_train_prediction = model.predict(X_train)"
   ]
  },
  {
   "cell_type": "code",
   "execution_count": 28,
   "id": "bb67354d",
   "metadata": {},
   "outputs": [],
   "source": [
    "X_test_prediction = model.predict(X_test)"
   ]
  },
  {
   "cell_type": "markdown",
   "id": "4db3b70a",
   "metadata": {},
   "source": [
    "**Accuracy Score :**"
   ]
  },
  {
   "cell_type": "markdown",
   "id": "6df8e020",
   "metadata": {},
   "source": [
    "TRAINING DATA  : "
   ]
  },
  {
   "cell_type": "code",
   "execution_count": 29,
   "id": "d7fa4a5e",
   "metadata": {},
   "outputs": [],
   "source": [
    "training_data_accuracy = accuracy_score(X_train_prediction, Y_train)"
   ]
  },
  {
   "cell_type": "code",
   "execution_count": 30,
   "id": "c69b44f9",
   "metadata": {},
   "outputs": [
    {
     "name": "stdout",
     "output_type": "stream",
     "text": [
      "Accuracy on Training data :  0.9529860228716646\n"
     ]
    }
   ],
   "source": [
    "print('Accuracy on Training data : ', training_data_accuracy)"
   ]
  },
  {
   "cell_type": "markdown",
   "id": "37e7affe",
   "metadata": {},
   "source": [
    "TEST DATA : "
   ]
  },
  {
   "cell_type": "code",
   "execution_count": 31,
   "id": "1f5c7390",
   "metadata": {},
   "outputs": [],
   "source": [
    "test_data_accuracy = accuracy_score(X_test_prediction, Y_test)"
   ]
  },
  {
   "cell_type": "code",
   "execution_count": 32,
   "id": "1db64a82",
   "metadata": {},
   "outputs": [
    {
     "name": "stdout",
     "output_type": "stream",
     "text": [
      "Accuracy score on Test Data :  0.9441624365482234\n"
     ]
    }
   ],
   "source": [
    "print('Accuracy score on Test Data : ', test_data_accuracy)"
   ]
  },
  {
   "cell_type": "code",
   "execution_count": 33,
   "id": "58d359a1",
   "metadata": {},
   "outputs": [],
   "source": [
    "all_accuracy = {}"
   ]
  },
  {
   "cell_type": "code",
   "execution_count": 34,
   "id": "6f4ae168",
   "metadata": {},
   "outputs": [],
   "source": [
    "all_accuracy['Logistic']=test_data_accuracy"
   ]
  },
  {
   "cell_type": "markdown",
   "id": "752e9b40",
   "metadata": {},
   "source": [
    "### 2. SUPPORT VECTOR MACHINE"
   ]
  },
  {
   "cell_type": "code",
   "execution_count": 35,
   "id": "5500fcaf",
   "metadata": {},
   "outputs": [],
   "source": [
    "model = SVC(kernel=\"linear\")"
   ]
  },
  {
   "cell_type": "markdown",
   "id": "71e1af61",
   "metadata": {},
   "source": [
    "TRAINING OUR MODEL : "
   ]
  },
  {
   "cell_type": "code",
   "execution_count": 36,
   "id": "ad5fdb0d",
   "metadata": {},
   "outputs": [
    {
     "data": {
      "text/plain": [
       "SVC(kernel='linear')"
      ]
     },
     "execution_count": 36,
     "metadata": {},
     "output_type": "execute_result"
    }
   ],
   "source": [
    "# training the Logistic Regression Model with Training Data\n",
    "\n",
    "model.fit(X_train, Y_train)"
   ]
  },
  {
   "cell_type": "markdown",
   "id": "94c16c32",
   "metadata": {},
   "source": [
    "#### Model Evaluation"
   ]
  },
  {
   "cell_type": "markdown",
   "id": "7abaaa5c",
   "metadata": {},
   "source": [
    "PREDICTION : "
   ]
  },
  {
   "cell_type": "code",
   "execution_count": 37,
   "id": "60979e7d",
   "metadata": {},
   "outputs": [],
   "source": [
    "X_train_prediction = model.predict(X_train)"
   ]
  },
  {
   "cell_type": "code",
   "execution_count": 38,
   "id": "93841a32",
   "metadata": {},
   "outputs": [],
   "source": [
    "X_test_prediction = model.predict(X_test)"
   ]
  },
  {
   "cell_type": "markdown",
   "id": "c20c0aed",
   "metadata": {},
   "source": [
    "**Accuracy Score :**"
   ]
  },
  {
   "cell_type": "markdown",
   "id": "56f29618",
   "metadata": {},
   "source": [
    "TRAINING DATA  : "
   ]
  },
  {
   "cell_type": "code",
   "execution_count": 39,
   "id": "a5f5d9ac",
   "metadata": {},
   "outputs": [],
   "source": [
    "training_data_accuracy = accuracy_score(X_train_prediction, Y_train)"
   ]
  },
  {
   "cell_type": "code",
   "execution_count": 40,
   "id": "55d12641",
   "metadata": {},
   "outputs": [
    {
     "name": "stdout",
     "output_type": "stream",
     "text": [
      "Accuracy on Training data :  0.9085133418043202\n"
     ]
    }
   ],
   "source": [
    "print('Accuracy on Training data : ', training_data_accuracy)"
   ]
  },
  {
   "cell_type": "markdown",
   "id": "1ec6cba1",
   "metadata": {},
   "source": [
    "TEST DATA : "
   ]
  },
  {
   "cell_type": "code",
   "execution_count": 41,
   "id": "d17de3c7",
   "metadata": {},
   "outputs": [],
   "source": [
    "test_data_accuracy = accuracy_score(X_test_prediction, Y_test)"
   ]
  },
  {
   "cell_type": "code",
   "execution_count": 42,
   "id": "e5a96dda",
   "metadata": {},
   "outputs": [
    {
     "name": "stdout",
     "output_type": "stream",
     "text": [
      "Accuracy score on Test Data :  0.9086294416243654\n"
     ]
    }
   ],
   "source": [
    "print('Accuracy score on Test Data : ', test_data_accuracy)"
   ]
  },
  {
   "cell_type": "code",
   "execution_count": 43,
   "id": "11b36380",
   "metadata": {},
   "outputs": [],
   "source": [
    "all_accuracy['SVM']=test_data_accuracy"
   ]
  },
  {
   "cell_type": "markdown",
   "id": "c0d25eb0",
   "metadata": {},
   "source": [
    "### 3. RANDOM FOREST CLASSIFIER"
   ]
  },
  {
   "cell_type": "code",
   "execution_count": 61,
   "id": "44c17730",
   "metadata": {},
   "outputs": [],
   "source": [
    "model = RandomForestClassifier()"
   ]
  },
  {
   "cell_type": "markdown",
   "id": "d059f517",
   "metadata": {},
   "source": [
    "TRAINING OUR MODEL : "
   ]
  },
  {
   "cell_type": "code",
   "execution_count": 62,
   "id": "5309aa05",
   "metadata": {},
   "outputs": [
    {
     "data": {
      "text/plain": [
       "RandomForestClassifier()"
      ]
     },
     "execution_count": 62,
     "metadata": {},
     "output_type": "execute_result"
    }
   ],
   "source": [
    "# training the Logistic Regression Model with Training Data\n",
    "\n",
    "model.fit(X_train, Y_train)"
   ]
  },
  {
   "cell_type": "markdown",
   "id": "b4be9878",
   "metadata": {},
   "source": [
    "#### Model Evaluation"
   ]
  },
  {
   "cell_type": "markdown",
   "id": "89d2edd7",
   "metadata": {},
   "source": [
    "PREDICTION : "
   ]
  },
  {
   "cell_type": "code",
   "execution_count": 63,
   "id": "8906cdc3",
   "metadata": {},
   "outputs": [],
   "source": [
    "X_train_prediction = model.predict(X_train)"
   ]
  },
  {
   "cell_type": "code",
   "execution_count": 64,
   "id": "8e41ccbc",
   "metadata": {},
   "outputs": [],
   "source": [
    "X_test_prediction = model.predict(X_test)"
   ]
  },
  {
   "cell_type": "markdown",
   "id": "b42fcdae",
   "metadata": {},
   "source": [
    "**Accuracy Score :**"
   ]
  },
  {
   "cell_type": "markdown",
   "id": "27301b6d",
   "metadata": {},
   "source": [
    "TRAINING DATA  : "
   ]
  },
  {
   "cell_type": "code",
   "execution_count": 65,
   "id": "6fe0a149",
   "metadata": {},
   "outputs": [],
   "source": [
    "training_data_accuracy = accuracy_score(X_train_prediction, Y_train)"
   ]
  },
  {
   "cell_type": "code",
   "execution_count": 66,
   "id": "126575b1",
   "metadata": {},
   "outputs": [
    {
     "name": "stdout",
     "output_type": "stream",
     "text": [
      "Accuracy on Training data :  1.0\n"
     ]
    }
   ],
   "source": [
    "print('Accuracy on Training data : ', training_data_accuracy)"
   ]
  },
  {
   "cell_type": "markdown",
   "id": "d44e449a",
   "metadata": {},
   "source": [
    "TEST DATA : "
   ]
  },
  {
   "cell_type": "code",
   "execution_count": 67,
   "id": "8abce977",
   "metadata": {},
   "outputs": [],
   "source": [
    "test_data_accuracy = accuracy_score(X_test_prediction, Y_test)"
   ]
  },
  {
   "cell_type": "code",
   "execution_count": 68,
   "id": "ee4b8a7c",
   "metadata": {},
   "outputs": [
    {
     "name": "stdout",
     "output_type": "stream",
     "text": [
      "Accuracy score on Test Data :  0.9187817258883249\n"
     ]
    }
   ],
   "source": [
    "print('Accuracy score on Test Data : ', test_data_accuracy)"
   ]
  },
  {
   "cell_type": "code",
   "execution_count": 69,
   "id": "4c714c1e",
   "metadata": {},
   "outputs": [],
   "source": [
    "all_accuracy['RandomForest']=test_data_accuracy"
   ]
  },
  {
   "cell_type": "markdown",
   "id": "d9cca74a",
   "metadata": {},
   "source": [
    "### 4. Bagging"
   ]
  },
  {
   "cell_type": "code",
   "execution_count": 70,
   "id": "8b259105",
   "metadata": {},
   "outputs": [
    {
     "name": "stdout",
     "output_type": "stream",
     "text": [
      "Accuracy score on Test Data  :  0.9035532994923858\n"
     ]
    }
   ],
   "source": [
    "    from sklearn.ensemble import BaggingClassifier\n",
    "    model = BaggingClassifier(random_state = 100)\n",
    "    model.fit(X_train, Y_train)\n",
    "    X_train_prediction = model.predict(X_train)\n",
    "    X_test_prediction = model.predict(X_test)\n",
    "    test_data_accuracy = accuracy_score(X_test_prediction, Y_test)\n",
    "    print(f'Accuracy score on Test Data  : ', test_data_accuracy)"
   ]
  },
  {
   "cell_type": "code",
   "execution_count": 71,
   "id": "85d504a3",
   "metadata": {},
   "outputs": [],
   "source": [
    "all_accuracy['Bagging']=test_data_accuracy"
   ]
  },
  {
   "cell_type": "markdown",
   "id": "5a29cc21",
   "metadata": {},
   "source": [
    "### 5. XGBoost"
   ]
  },
  {
   "cell_type": "code",
   "execution_count": 72,
   "id": "787b9f10",
   "metadata": {},
   "outputs": [
    {
     "data": {
      "text/plain": [
       "247995    1\n",
       "147541    0\n",
       "54095     0\n",
       "64604     0\n",
       "15451     1\n",
       "         ..\n",
       "108258    1\n",
       "12108     1\n",
       "99506     1\n",
       "74496     1\n",
       "20049     0\n",
       "Length: 197, dtype: category\n",
       "Categories (2, int64): [0, 1]"
      ]
     },
     "execution_count": 72,
     "metadata": {},
     "output_type": "execute_result"
    }
   ],
   "source": [
    "Y_train = Y_train.astype('category').cat.codes\n",
    "Y_train.value_counts()\n",
    "Y_train.astype('category')\n",
    "Y_test = Y_test.astype('category').cat.codes\n",
    "Y_test.astype('category')"
   ]
  },
  {
   "cell_type": "code",
   "execution_count": 73,
   "id": "6ce3f9e7",
   "metadata": {},
   "outputs": [
    {
     "name": "stdout",
     "output_type": "stream",
     "text": [
      "Accuracy is: 0.9137055837563451\n"
     ]
    }
   ],
   "source": [
    "import xgboost\n",
    "from xgboost import XGBClassifier\n",
    "model_Xgboost = XGBClassifier()\n",
    "model_Xgboost.fit(X_train, Y_train)\n",
    "y_pred_XGBoost = model_Xgboost.predict(X_test)\n",
    " \n",
    "print(\"Accuracy is:\",accuracy_score(Y_test,y_pred_XGBoost))\n"
   ]
  },
  {
   "cell_type": "code",
   "execution_count": 74,
   "id": "2899cb30",
   "metadata": {},
   "outputs": [],
   "source": [
    "all_accuracy['XGBoost']=test_data_accuracy"
   ]
  },
  {
   "cell_type": "code",
   "execution_count": 75,
   "id": "2024547d",
   "metadata": {},
   "outputs": [],
   "source": [
    "Accuracy = pd.DataFrame([all_accuracy]).T\n",
    "Accuracy = Accuracy.rename(columns={0:'Accuracy'})"
   ]
  },
  {
   "cell_type": "code",
   "execution_count": 76,
   "id": "93525a84",
   "metadata": {},
   "outputs": [
    {
     "data": {
      "text/html": [
       "<div>\n",
       "<style scoped>\n",
       "    .dataframe tbody tr th:only-of-type {\n",
       "        vertical-align: middle;\n",
       "    }\n",
       "\n",
       "    .dataframe tbody tr th {\n",
       "        vertical-align: top;\n",
       "    }\n",
       "\n",
       "    .dataframe thead th {\n",
       "        text-align: right;\n",
       "    }\n",
       "</style>\n",
       "<table border=\"1\" class=\"dataframe\">\n",
       "  <thead>\n",
       "    <tr style=\"text-align: right;\">\n",
       "      <th></th>\n",
       "      <th>Accuracy</th>\n",
       "    </tr>\n",
       "  </thead>\n",
       "  <tbody>\n",
       "    <tr>\n",
       "      <th>Logistic</th>\n",
       "      <td>0.944162</td>\n",
       "    </tr>\n",
       "    <tr>\n",
       "      <th>SVM</th>\n",
       "      <td>0.908629</td>\n",
       "    </tr>\n",
       "    <tr>\n",
       "      <th>RandomForest</th>\n",
       "      <td>0.918782</td>\n",
       "    </tr>\n",
       "    <tr>\n",
       "      <th>Bagging</th>\n",
       "      <td>0.903553</td>\n",
       "    </tr>\n",
       "    <tr>\n",
       "      <th>XGBoost</th>\n",
       "      <td>0.903553</td>\n",
       "    </tr>\n",
       "  </tbody>\n",
       "</table>\n",
       "</div>"
      ],
      "text/plain": [
       "              Accuracy\n",
       "Logistic      0.944162\n",
       "SVM           0.908629\n",
       "RandomForest  0.918782\n",
       "Bagging       0.903553\n",
       "XGBoost       0.903553"
      ]
     },
     "execution_count": 76,
     "metadata": {},
     "output_type": "execute_result"
    }
   ],
   "source": [
    "Accuracy"
   ]
  },
  {
   "cell_type": "markdown",
   "id": "0fb96f66",
   "metadata": {},
   "source": [
    "We can see that we that we get the most accuracy score for **Logistic Regression Algorithm** i.e. 94.416%"
   ]
  },
  {
   "cell_type": "code",
   "execution_count": null,
   "id": "1ef259a4",
   "metadata": {},
   "outputs": [],
   "source": []
  }
 ],
 "metadata": {
  "celltoolbar": "Raw Cell Format",
  "kernelspec": {
   "display_name": "Python 3 (ipykernel)",
   "language": "python",
   "name": "python3"
  },
  "language_info": {
   "codemirror_mode": {
    "name": "ipython",
    "version": 3
   },
   "file_extension": ".py",
   "mimetype": "text/x-python",
   "name": "python",
   "nbconvert_exporter": "python",
   "pygments_lexer": "ipython3",
   "version": "3.9.12"
  }
 },
 "nbformat": 4,
 "nbformat_minor": 5
}
